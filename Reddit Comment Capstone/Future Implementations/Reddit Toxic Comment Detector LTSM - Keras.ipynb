{
 "cells": [
  {
   "cell_type": "code",
   "execution_count": 17,
   "metadata": {
    "scrolled": false
   },
   "outputs": [],
   "source": [
    "import sys, os, re, csv, codecs,gc, time, warnings, numpy as np, pandas as pd\n",
    "import matplotlib.pyplot as plt\n",
    "%matplotlib inline\n",
    "from keras.preprocessing.text import Tokenizer\n",
    "from keras.preprocessing.sequence import pad_sequences\n",
    "from keras.layers import Dense, Input, LSTM, Embedding, Dropout, Activation\n",
    "from keras.layers import Bidirectional, GlobalMaxPool1D\n",
    "from keras.models import Model\n",
    "from keras import initializers, regularizers, constraints, optimizers, layers\n",
    "\n"
   ]
  },
  {
   "cell_type": "code",
   "execution_count": 18,
   "metadata": {},
   "outputs": [],
   "source": [
    "train = pd.read_csv(\"C:\\\\SpringBoard\\\\CapstoneOne\\\\RedditSen.csv\", encoding='utf-8')"
   ]
  },
  {
   "cell_type": "code",
   "execution_count": 19,
   "metadata": {},
   "outputs": [
    {
     "data": {
      "text/html": [
       "<div>\n",
       "<style scoped>\n",
       "    .dataframe tbody tr th:only-of-type {\n",
       "        vertical-align: middle;\n",
       "    }\n",
       "\n",
       "    .dataframe tbody tr th {\n",
       "        vertical-align: top;\n",
       "    }\n",
       "\n",
       "    .dataframe thead th {\n",
       "        text-align: right;\n",
       "    }\n",
       "</style>\n",
       "<table border=\"1\" class=\"dataframe\">\n",
       "  <thead>\n",
       "    <tr style=\"text-align: right;\">\n",
       "      <th></th>\n",
       "      <th>Unnamed: 0</th>\n",
       "      <th>comment</th>\n",
       "      <th>positive</th>\n",
       "      <th>negative</th>\n",
       "      <th>compund</th>\n",
       "      <th>positive_comment</th>\n",
       "      <th>negative_comment</th>\n",
       "      <th>neutral_comment</th>\n",
       "    </tr>\n",
       "  </thead>\n",
       "  <tbody>\n",
       "    <tr>\n",
       "      <th>0</th>\n",
       "      <td>0</td>\n",
       "      <td>\"You must post a clear and direct question in ...</td>\n",
       "      <td>0.090</td>\n",
       "      <td>0.052</td>\n",
       "      <td>0.1531</td>\n",
       "      <td>1</td>\n",
       "      <td>0</td>\n",
       "      <td>0</td>\n",
       "    </tr>\n",
       "    <tr>\n",
       "      <th>1</th>\n",
       "      <td>1</td>\n",
       "      <td>I have learned English.</td>\n",
       "      <td>0.000</td>\n",
       "      <td>0.000</td>\n",
       "      <td>0.0000</td>\n",
       "      <td>0</td>\n",
       "      <td>0</td>\n",
       "      <td>1</td>\n",
       "    </tr>\n",
       "    <tr>\n",
       "      <th>2</th>\n",
       "      <td>2</td>\n",
       "      <td>How to bunny hop</td>\n",
       "      <td>0.000</td>\n",
       "      <td>0.000</td>\n",
       "      <td>0.0000</td>\n",
       "      <td>0</td>\n",
       "      <td>0</td>\n",
       "      <td>1</td>\n",
       "    </tr>\n",
       "    <tr>\n",
       "      <th>3</th>\n",
       "      <td>3</td>\n",
       "      <td>\"You laugh, but have you ever realized you wal...</td>\n",
       "      <td>0.099</td>\n",
       "      <td>0.000</td>\n",
       "      <td>0.3182</td>\n",
       "      <td>1</td>\n",
       "      <td>0</td>\n",
       "      <td>0</td>\n",
       "    </tr>\n",
       "    <tr>\n",
       "      <th>4</th>\n",
       "      <td>4</td>\n",
       "      <td>After getting shot I can heal myself by drinki...</td>\n",
       "      <td>0.189</td>\n",
       "      <td>0.000</td>\n",
       "      <td>0.2732</td>\n",
       "      <td>1</td>\n",
       "      <td>0</td>\n",
       "      <td>0</td>\n",
       "    </tr>\n",
       "  </tbody>\n",
       "</table>\n",
       "</div>"
      ],
      "text/plain": [
       "   Unnamed: 0                                            comment  positive  \\\n",
       "0           0  \"You must post a clear and direct question in ...     0.090   \n",
       "1           1                            I have learned English.     0.000   \n",
       "2           2                                   How to bunny hop     0.000   \n",
       "3           3  \"You laugh, but have you ever realized you wal...     0.099   \n",
       "4           4  After getting shot I can heal myself by drinki...     0.189   \n",
       "\n",
       "   negative  compund  positive_comment  negative_comment  neutral_comment  \n",
       "0     0.052   0.1531                 1                 0                0  \n",
       "1     0.000   0.0000                 0                 0                1  \n",
       "2     0.000   0.0000                 0                 0                1  \n",
       "3     0.000   0.3182                 1                 0                0  \n",
       "4     0.000   0.2732                 1                 0                0  "
      ]
     },
     "execution_count": 19,
     "metadata": {},
     "output_type": "execute_result"
    }
   ],
   "source": [
    "train.head()"
   ]
  },
  {
   "cell_type": "code",
   "execution_count": 20,
   "metadata": {},
   "outputs": [
    {
     "name": "stdout",
     "output_type": "stream",
     "text": [
      "<class 'pandas.core.frame.DataFrame'>\n",
      "RangeIndex: 7811 entries, 0 to 7810\n",
      "Data columns (total 8 columns):\n",
      "Unnamed: 0          7811 non-null int64\n",
      "comment             6887 non-null object\n",
      "positive            7811 non-null float64\n",
      "negative            7811 non-null float64\n",
      "compund             7811 non-null float64\n",
      "positive_comment    7811 non-null int64\n",
      "negative_comment    7811 non-null int64\n",
      "neutral_comment     7811 non-null int64\n",
      "dtypes: float64(3), int64(4), object(1)\n",
      "memory usage: 488.3+ KB\n"
     ]
    }
   ],
   "source": [
    "train.info()"
   ]
  },
  {
   "cell_type": "code",
   "execution_count": 21,
   "metadata": {},
   "outputs": [
    {
     "data": {
      "text/plain": [
       "Unnamed: 0          False\n",
       "comment              True\n",
       "positive            False\n",
       "negative            False\n",
       "compund             False\n",
       "positive_comment    False\n",
       "negative_comment    False\n",
       "neutral_comment     False\n",
       "dtype: bool"
      ]
     },
     "execution_count": 21,
     "metadata": {},
     "output_type": "execute_result"
    }
   ],
   "source": [
    "train.isnull().any()"
   ]
  },
  {
   "cell_type": "code",
   "execution_count": null,
   "metadata": {},
   "outputs": [],
   "source": []
  },
  {
   "cell_type": "code",
   "execution_count": 33,
   "metadata": {},
   "outputs": [],
   "source": [
    "#Split into X and Y sets\n",
    "comment_class = [\"positive_comment\",\"negative_comment\",\"neutral_comment\"]\n",
    "x = train[\"comment\"].fillna(\"fillna\").values\n",
    "y = train[comment_class].values\n"
   ]
  },
  {
   "cell_type": "code",
   "execution_count": 23,
   "metadata": {},
   "outputs": [],
   "source": [
    "#Tokenize data breaking sentence into individual words\n",
    "#Index words into a dictionary and assign index values for each\n",
    "#Represent index as a series of numbers and plug into LSTM model\n",
    "max_features = 150\n",
    "tokenizer = Tokenizer(num_words=max_features)\n",
    "tokenizer.fit_on_texts(list(x))\n",
    "tokenized_train = tokenizer.texts_to_sequences(x)"
   ]
  },
  {
   "cell_type": "code",
   "execution_count": 24,
   "metadata": {},
   "outputs": [
    {
     "data": {
      "image/png": "[encoded data removed]",
      "text/plain": [
       "<matplotlib.figure.Figure at 0x2974a5f1860>"
      ]
     },
     "metadata": {},
     "output_type": "display_data"
    }
   ],
   "source": [
    "#Pad data by viewing the distribution of words in sentences\n",
    "totalwordnum = [len(one_comment) for one_comment in tokenized_train]\n",
    "plt.hist(totalwordnum,bins=np.arange(0,410,10))\n",
    "plt.show()"
   ]
  },
  {
   "cell_type": "code",
   "execution_count": 25,
   "metadata": {},
   "outputs": [],
   "source": [
    "#Pad the data to make it all same length\n",
    "#set maxlen to 300 because 300 seems to be the tail end of the data\n",
    "maxlen = 150\n",
    "X_t = pad_sequences(tokenized_train, maxlen=maxlen)"
   ]
  },
  {
   "cell_type": "code",
   "execution_count": 28,
   "metadata": {},
   "outputs": [
    {
     "name": "stdout",
     "output_type": "stream",
     "text": [
      "Reshape{3}.0\n"
     ]
    }
   ],
   "source": [
    "#Embed the layer\n",
    "inp = Input(shape=(maxlen, ))\n",
    "embed_size = 128\n",
    "x = Embedding(max_features, embed_size)(inp)\n"
   ]
  },
  {
   "cell_type": "markdown",
   "metadata": {},
   "source": [
    "We have to pass the output to a normal layer by reshaping the 3D tensor into a 2D one by using a Global Max Pooling layer which is used to reduce the dimensions of larger image data. This is done by taking the Max values of each patch of data, these max values will now be a new down-sized set of data usable by 2D tensor flow."
   ]
  },
  {
   "cell_type": "code",
   "execution_count": 13,
   "metadata": {},
   "outputs": [],
   "source": [
    "#Fit X into tensor flow model\n",
    "x = LSTM(60, return_sequences=True,name='lstm')(x)\n",
    "#Flatten into 2D\n",
    "x = GlobalMaxPool1D()(x)\n",
    "#Drop 10% of nodes\n",
    "x = Dropout(0.1)(x)\n",
    "#Pass output of dropout layer to a denser connected layer\n",
    "#and a RELU function\n",
    "x = Dense(50, activation=\"relu\")(x)\n",
    "#feed output into a dropout laer again\n",
    "x = Dropout(.1)(x)\n",
    "#feed output into a sigmoid layer because we want a binary class.\n",
    "#for each of the three labels. Sigmoids have a output between (0,1)\n",
    "x = Dense(6, activation=\"sigmoid\")(x)"
   ]
  },
  {
   "cell_type": "code",
   "execution_count": 29,
   "metadata": {},
   "outputs": [],
   "source": [
    "#Define inputs and outputs of learning process. \n",
    "model = Model(inputs=inp, outputs=x)\n",
    "model.compile(loss='binary_crossentropy', optimizer='adam',\n",
    "             metrics=['accuracy'])"
   ]
  },
  {
   "cell_type": "raw",
   "metadata": {},
   "source": [
    "#Test model\n",
    "batch_size = 32\n",
    "epochs = 2\n",
    "model.fit(X_t, y, batch_size = batch_size, epochs=epochs, validation_split=0.1)"
   ]
  },
  {
   "cell_type": "code",
   "execution_count": null,
   "metadata": {},
   "outputs": [],
   "source": []
  }
 ],
 "metadata": {
  "kernelspec": {
   "display_name": "Python 3",
   "language": "python",
   "name": "python3"
  },
  "language_info": {
   "codemirror_mode": {
    "name": "ipython",
    "version": 3
   },
   "file_extension": ".py",
   "mimetype": "text/x-python",
   "name": "python",
   "nbconvert_exporter": "python",
   "pygments_lexer": "ipython3",
   "version": "3.6.4"
  }
 },
 "nbformat": 4,
 "nbformat_minor": 2
}
