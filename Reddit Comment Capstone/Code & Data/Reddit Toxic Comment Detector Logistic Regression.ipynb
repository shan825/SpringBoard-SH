{
 "cells": [
  {
   "cell_type": "code",
   "execution_count": 34,
   "metadata": {},
   "outputs": [],
   "source": [
    "import pandas as pd, numpy as np, re, string\n",
    "from sklearn.linear_model import LogisticRegression\n",
    "from sklearn.feature_extraction.text import CountVectorizer, TfidfVectorizer as tf\n",
    "train = pd.read_csv(\"C:\\\\SpringBoard\\\\CapstoneOne\\\\RedditTrain.csv\", encoding='utf-8')\n",
    "test = pd.read_csv(\"C:\\\\SpringBoard\\\\CapstoneOne\\\\RedditTest.csv\", encoding='utf-8')"
   ]
  },
  {
   "cell_type": "code",
   "execution_count": 35,
   "metadata": {
    "scrolled": true
   },
   "outputs": [
    {
     "data": {
      "text/html": [
       "<div>\n",
       "<style scoped>\n",
       "    .dataframe tbody tr th:only-of-type {\n",
       "        vertical-align: middle;\n",
       "    }\n",
       "\n",
       "    .dataframe tbody tr th {\n",
       "        vertical-align: top;\n",
       "    }\n",
       "\n",
       "    .dataframe thead th {\n",
       "        text-align: right;\n",
       "    }\n",
       "</style>\n",
       "<table border=\"1\" class=\"dataframe\">\n",
       "  <thead>\n",
       "    <tr style=\"text-align: right;\">\n",
       "      <th></th>\n",
       "      <th>Unnamed: 0</th>\n",
       "      <th>comment</th>\n",
       "      <th>positive</th>\n",
       "      <th>negative</th>\n",
       "      <th>compund</th>\n",
       "      <th>positive_comment</th>\n",
       "      <th>negative_comment</th>\n",
       "      <th>neutral_comment</th>\n",
       "    </tr>\n",
       "  </thead>\n",
       "  <tbody>\n",
       "    <tr>\n",
       "      <th>0</th>\n",
       "      <td>0</td>\n",
       "      <td>\"You must post a clear and direct question in ...</td>\n",
       "      <td>0.090</td>\n",
       "      <td>0.052</td>\n",
       "      <td>0.1531</td>\n",
       "      <td>1</td>\n",
       "      <td>0</td>\n",
       "      <td>0</td>\n",
       "    </tr>\n",
       "    <tr>\n",
       "      <th>1</th>\n",
       "      <td>1</td>\n",
       "      <td>I have learned English.</td>\n",
       "      <td>0.000</td>\n",
       "      <td>0.000</td>\n",
       "      <td>0.0000</td>\n",
       "      <td>0</td>\n",
       "      <td>0</td>\n",
       "      <td>1</td>\n",
       "    </tr>\n",
       "    <tr>\n",
       "      <th>2</th>\n",
       "      <td>2</td>\n",
       "      <td>How to bunny hop</td>\n",
       "      <td>0.000</td>\n",
       "      <td>0.000</td>\n",
       "      <td>0.0000</td>\n",
       "      <td>0</td>\n",
       "      <td>0</td>\n",
       "      <td>1</td>\n",
       "    </tr>\n",
       "    <tr>\n",
       "      <th>3</th>\n",
       "      <td>3</td>\n",
       "      <td>\"You laugh, but have you ever realized you wal...</td>\n",
       "      <td>0.099</td>\n",
       "      <td>0.000</td>\n",
       "      <td>0.3182</td>\n",
       "      <td>1</td>\n",
       "      <td>0</td>\n",
       "      <td>0</td>\n",
       "    </tr>\n",
       "    <tr>\n",
       "      <th>4</th>\n",
       "      <td>4</td>\n",
       "      <td>After getting shot I can heal myself by drinki...</td>\n",
       "      <td>0.189</td>\n",
       "      <td>0.000</td>\n",
       "      <td>0.2732</td>\n",
       "      <td>1</td>\n",
       "      <td>0</td>\n",
       "      <td>0</td>\n",
       "    </tr>\n",
       "  </tbody>\n",
       "</table>\n",
       "</div>"
      ],
      "text/plain": [
       "   Unnamed: 0                                            comment  positive  \\\n",
       "0           0  \"You must post a clear and direct question in ...     0.090   \n",
       "1           1                            I have learned English.     0.000   \n",
       "2           2                                   How to bunny hop     0.000   \n",
       "3           3  \"You laugh, but have you ever realized you wal...     0.099   \n",
       "4           4  After getting shot I can heal myself by drinki...     0.189   \n",
       "\n",
       "   negative  compund  positive_comment  negative_comment  neutral_comment  \n",
       "0     0.052   0.1531                 1                 0                0  \n",
       "1     0.000   0.0000                 0                 0                1  \n",
       "2     0.000   0.0000                 0                 0                1  \n",
       "3     0.000   0.3182                 1                 0                0  \n",
       "4     0.000   0.2732                 1                 0                0  "
      ]
     },
     "execution_count": 35,
     "metadata": {},
     "output_type": "execute_result"
    }
   ],
   "source": [
    "train.head()"
   ]
  },
  {
   "cell_type": "code",
   "execution_count": null,
   "metadata": {},
   "outputs": [],
   "source": []
  },
  {
   "cell_type": "code",
   "execution_count": 36,
   "metadata": {},
   "outputs": [
    {
     "data": {
      "text/html": [
       "<div>\n",
       "<style scoped>\n",
       "    .dataframe tbody tr th:only-of-type {\n",
       "        vertical-align: middle;\n",
       "    }\n",
       "\n",
       "    .dataframe tbody tr th {\n",
       "        vertical-align: top;\n",
       "    }\n",
       "\n",
       "    .dataframe thead th {\n",
       "        text-align: right;\n",
       "    }\n",
       "</style>\n",
       "<table border=\"1\" class=\"dataframe\">\n",
       "  <thead>\n",
       "    <tr style=\"text-align: right;\">\n",
       "      <th></th>\n",
       "      <th>Unnamed: 0</th>\n",
       "      <th>comment</th>\n",
       "      <th>positive</th>\n",
       "      <th>negative</th>\n",
       "      <th>compund</th>\n",
       "      <th>positive_comment</th>\n",
       "      <th>negative_comment</th>\n",
       "      <th>neutral_comment</th>\n",
       "    </tr>\n",
       "  </thead>\n",
       "  <tbody>\n",
       "    <tr>\n",
       "      <th>0</th>\n",
       "      <td>5298</td>\n",
       "      <td>Yep. Wood=less deadly confirmed</td>\n",
       "      <td>0.423</td>\n",
       "      <td>0.000</td>\n",
       "      <td>0.2960</td>\n",
       "      <td>1</td>\n",
       "      <td>0</td>\n",
       "      <td>0</td>\n",
       "    </tr>\n",
       "    <tr>\n",
       "      <th>1</th>\n",
       "      <td>5299</td>\n",
       "      <td>They are discriminating against them based on ...</td>\n",
       "      <td>0.038</td>\n",
       "      <td>0.160</td>\n",
       "      <td>-0.7713</td>\n",
       "      <td>0</td>\n",
       "      <td>1</td>\n",
       "      <td>0</td>\n",
       "    </tr>\n",
       "    <tr>\n",
       "      <th>2</th>\n",
       "      <td>5300</td>\n",
       "      <td>Did you just sit here with a straight face and...</td>\n",
       "      <td>0.083</td>\n",
       "      <td>0.131</td>\n",
       "      <td>-0.2748</td>\n",
       "      <td>0</td>\n",
       "      <td>1</td>\n",
       "      <td>0</td>\n",
       "    </tr>\n",
       "    <tr>\n",
       "      <th>3</th>\n",
       "      <td>5301</td>\n",
       "      <td>It is less damaging unless you’re talking abou...</td>\n",
       "      <td>0.000</td>\n",
       "      <td>0.188</td>\n",
       "      <td>-0.4601</td>\n",
       "      <td>0</td>\n",
       "      <td>1</td>\n",
       "      <td>0</td>\n",
       "    </tr>\n",
       "    <tr>\n",
       "      <th>4</th>\n",
       "      <td>5302</td>\n",
       "      <td>\"I'm not saying I want another mass shooting, ...</td>\n",
       "      <td>0.374</td>\n",
       "      <td>0.029</td>\n",
       "      <td>0.9359</td>\n",
       "      <td>1</td>\n",
       "      <td>0</td>\n",
       "      <td>0</td>\n",
       "    </tr>\n",
       "  </tbody>\n",
       "</table>\n",
       "</div>"
      ],
      "text/plain": [
       "   Unnamed: 0                                            comment  positive  \\\n",
       "0        5298                    Yep. Wood=less deadly confirmed     0.423   \n",
       "1        5299  They are discriminating against them based on ...     0.038   \n",
       "2        5300  Did you just sit here with a straight face and...     0.083   \n",
       "3        5301  It is less damaging unless you’re talking abou...     0.000   \n",
       "4        5302  \"I'm not saying I want another mass shooting, ...     0.374   \n",
       "\n",
       "   negative  compund  positive_comment  negative_comment  neutral_comment  \n",
       "0     0.000   0.2960                 1                 0                0  \n",
       "1     0.160  -0.7713                 0                 1                0  \n",
       "2     0.131  -0.2748                 0                 1                0  \n",
       "3     0.188  -0.4601                 0                 1                0  \n",
       "4     0.029   0.9359                 1                 0                0  "
      ]
     },
     "execution_count": 36,
     "metadata": {},
     "output_type": "execute_result"
    }
   ],
   "source": [
    "test.head()"
   ]
  },
  {
   "cell_type": "code",
   "execution_count": null,
   "metadata": {},
   "outputs": [],
   "source": []
  },
  {
   "cell_type": "code",
   "execution_count": 37,
   "metadata": {},
   "outputs": [
    {
     "data": {
      "text/plain": [
       "(130.1136851136851, 124.85501546472132, 1493.0)"
      ]
     },
     "execution_count": 37,
     "metadata": {},
     "output_type": "execute_result"
    }
   ],
   "source": [
    "stats = train.comment.str.len()\n",
    "stats.mean(), stats.std(), stats.max()"
   ]
  },
  {
   "cell_type": "code",
   "execution_count": 38,
   "metadata": {},
   "outputs": [],
   "source": [
    "#Get rid of empty comments\n",
    "train['comment'].fillna(\"unknown\",inplace=True)\n",
    "test['comment'].fillna(\"unknown\", inplace=True)\n",
    "#label columns\n",
    "label_cols = ['positive_comment','negative_comment','neutral_comment']"
   ]
  },
  {
   "cell_type": "code",
   "execution_count": 39,
   "metadata": {},
   "outputs": [],
   "source": [
    "#Build Model creating bag of words representation\n",
    "re_token = re.compile(f'([{string.punctuation}“”¨«»®´·º½¾¿¡§£₤‘’])')\n",
    "def tokenize(s): return re_token.sub(r'\\1',s).split()\n",
    "n = train.shape[0]\n",
    "tf\n",
    "vect = tf(ngram_range=(1,2), tokenizer=tokenize, min_df=3,\n",
    "                      max_df=.9, strip_accents='unicode',use_idf=1,\n",
    "                      smooth_idf=1, sublinear_tf=1)\n",
    "train_term_doc = vect.fit_transform(train['comment'])\n",
    "test_term_doc = vect.transform(test['comment'])"
   ]
  },
  {
   "cell_type": "code",
   "execution_count": 40,
   "metadata": {},
   "outputs": [
    {
     "data": {
      "text/plain": [
       "<5298x8890 sparse matrix of type '<class 'numpy.float64'>'\n",
       "\twith 116561 stored elements in Compressed Sparse Row format>"
      ]
     },
     "execution_count": 40,
     "metadata": {},
     "output_type": "execute_result"
    }
   ],
   "source": [
    "train_term_doc"
   ]
  },
  {
   "cell_type": "code",
   "execution_count": 41,
   "metadata": {},
   "outputs": [
    {
     "data": {
      "text/plain": [
       "<2513x8890 sparse matrix of type '<class 'numpy.float64'>'\n",
       "\twith 46033 stored elements in Compressed Sparse Row format>"
      ]
     },
     "execution_count": 41,
     "metadata": {},
     "output_type": "execute_result"
    }
   ],
   "source": [
    "test_term_doc"
   ]
  },
  {
   "cell_type": "code",
   "execution_count": 42,
   "metadata": {},
   "outputs": [],
   "source": [
    "#basic Naive Bayes feature equation\n",
    "def pr(y_i, y):\n",
    "    p = x[y==y_i].sum(0)\n",
    "    return (p+1)/((y==y_i).sum()+1)\n",
    "#fit model for one category comment at a time\n",
    "def model(y):\n",
    "    y = y.values\n",
    "    r = np.log(pr(1,y)/pr(0,y))\n",
    "    m = LogisticRegression(C=4, dual=True)\n",
    "    x_nb = x.multiply(r)\n",
    "    return m.fit(x_nb, y), r"
   ]
  },
  {
   "cell_type": "code",
   "execution_count": 43,
   "metadata": {},
   "outputs": [],
   "source": [
    "x = train_term_doc\n",
    "test_x = test_term_doc"
   ]
  },
  {
   "cell_type": "code",
   "execution_count": 44,
   "metadata": {},
   "outputs": [
    {
     "name": "stdout",
     "output_type": "stream",
     "text": [
      "  (0, 2126)\t0.7316648331893637\n",
      "  (0, 1939)\t0.6816645596435101\n",
      "  (1, 8690)\t0.10032635768575522\n",
      "  (1, 8479)\t0.10558256944816731\n",
      "  (1, 8173)\t0.13243970433895522\n",
      "  (1, 7732)\t0.14455990351164674\n",
      "  (1, 7730)\t0.05488239296086236\n",
      "  (1, 7546)\t0.181123519811459\n",
      "  (1, 7497)\t0.14012004713382398\n",
      "  (1, 7491)\t0.1959788226459939\n",
      "  (1, 7409)\t0.11065335356582902\n",
      "  (1, 7396)\t0.10040865127500188\n",
      "  (1, 6954)\t0.06694642037279754\n",
      "  (1, 6921)\t0.21598492784323411\n",
      "  (1, 6474)\t0.2012250200492946\n",
      "  (1, 6469)\t0.15334661292698523\n",
      "  (1, 6190)\t0.20529075563016064\n",
      "  (1, 6053)\t0.176314775267181\n",
      "  (1, 5453)\t0.172249039686315\n",
      "  (1, 5445)\t0.19181769202453247\n",
      "  (1, 5429)\t0.10518444756520574\n",
      "  (1, 5291)\t0.17782233265943748\n",
      "  (1, 5264)\t0.08436189929275098\n",
      "  (1, 4409)\t0.20529075563016064\n",
      "  (1, 4408)\t0.181123519811459\n",
      "  :\t:\n",
      "  (2511, 6783)\t0.20273328009690622\n",
      "  (2511, 5601)\t0.248347495590195\n",
      "  (2511, 5599)\t0.163329872963798\n",
      "  (2511, 5577)\t0.20109358131050625\n",
      "  (2511, 5538)\t0.17563197233957797\n",
      "  (2511, 5027)\t0.12808368413186752\n",
      "  (2511, 4832)\t0.2176686341982149\n",
      "  (2511, 4580)\t0.19043672351285262\n",
      "  (2511, 4298)\t0.19043672351285262\n",
      "  (2511, 4231)\t0.18528418861465004\n",
      "  (2511, 4230)\t0.10431617788412274\n",
      "  (2511, 3981)\t0.19805834625164784\n",
      "  (2511, 3952)\t0.1334499880465364\n",
      "  (2511, 3208)\t0.1808812479834102\n",
      "  (2511, 3130)\t0.10663442824722248\n",
      "  (2511, 2822)\t0.08658531425903002\n",
      "  (2511, 2573)\t0.24158021216621697\n",
      "  (2511, 2570)\t0.1642630862894684\n",
      "  (2511, 1250)\t0.22732639326501333\n",
      "  (2511, 476)\t0.2176686341982149\n",
      "  (2511, 425)\t0.14896139592950264\n",
      "  (2511, 355)\t0.13169559838601108\n",
      "  (2512, 7078)\t0.26472763954529754\n",
      "  (2512, 3058)\t0.9057655104520922\n",
      "  (2512, 864)\t0.3309201065759469\n"
     ]
    }
   ],
   "source": [
    "print(test_x)"
   ]
  },
  {
   "cell_type": "code",
   "execution_count": 45,
   "metadata": {},
   "outputs": [
    {
     "name": "stdout",
     "output_type": "stream",
     "text": [
      "fit positive_comment\n",
      "fit negative_comment\n",
      "fit neutral_comment\n"
     ]
    }
   ],
   "source": [
    "#Don't run till we have test set\n",
    "preds = np.zeros((len(test), len(label_cols)))\n",
    "for i, j in enumerate(label_cols):\n",
    "    print('fit',j)\n",
    "    m,r = model(train[j])\n",
    "    preds[:,i] = m.predict_proba(test_x.multiply(r))[:,1]"
   ]
  },
  {
   "cell_type": "code",
   "execution_count": 76,
   "metadata": {},
   "outputs": [],
   "source": [
    "preds_df = pd.DataFrame(preds)\n",
    "preds_df.to_csv(\"test_results.csv\", encoding='utf-8', index=False)"
   ]
  },
  {
   "cell_type": "code",
   "execution_count": 77,
   "metadata": {},
   "outputs": [],
   "source": [
    "#submid = pd.DataFrame({'id': subm[\"id\"]})\n",
    "#submission = pd.concat([submid, pd.DataFrame(preds, columns = label_cols)], axis=1)\n",
    "#submission.to_csv('submission.csv', index=False)\n",
    "\n"
   ]
  },
  {
   "cell_type": "code",
   "execution_count": 88,
   "metadata": {},
   "outputs": [],
   "source": [
    "#from sklearn.metrics import accuracy_score\n",
    "#test_results = pd.read_csv(\"C:\\\\SpringBoard\\\\CapstoneOne\\\\RedditTestAccuracy.csv\", encoding='utf-8')\n",
    "#label_probs = ['positive_prob','negative_prob','neutral_prob']\n",
    "#accuracy_score(test_results[label_cols],test_results[label_probs])"
   ]
  },
  {
   "cell_type": "code",
   "execution_count": 89,
   "metadata": {},
   "outputs": [],
   "source": [
    " #from sklearn.naive_bayes import GaussianNB\n",
    "   # clf = GaussianNB()\n",
    "    #clf.fit(train,label_cols)\n",
    "   # pred = clf.predict(features_test)"
   ]
  },
  {
   "cell_type": "code",
   "execution_count": null,
   "metadata": {},
   "outputs": [],
   "source": []
  }
 ],
 "metadata": {
  "kernelspec": {
   "display_name": "Python 3",
   "language": "python",
   "name": "python3"
  },
  "language_info": {
   "codemirror_mode": {
    "name": "ipython",
    "version": 3
   },
   "file_extension": ".py",
   "mimetype": "text/x-python",
   "name": "python",
   "nbconvert_exporter": "python",
   "pygments_lexer": "ipython3",
   "version": "3.6.4"
  }
 },
 "nbformat": 4,
 "nbformat_minor": 2
}
