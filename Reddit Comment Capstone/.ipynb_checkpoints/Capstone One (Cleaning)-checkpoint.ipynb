{
 "cells": [
  {
   "cell_type": "code",
   "execution_count": 19,
   "metadata": {},
   "outputs": [
    {
     "name": "stdout",
     "output_type": "stream",
     "text": [
      "C:\\Users\\Shing Han\\Documents\\Springboard\\Capstone 1\n",
      "['You', 'must', 'post', 'a', 'clear', 'and', 'direct', 'question', 'in', 'the', 'title.', 'The', 'title', 'may', 'contain', 'two,', 'short,', 'necessary', 'context', 'sentences.', 'No', 'text', 'is', 'allowed', 'in', 'the', 'textbox.', 'Your', 'thoughts/responses', 'to', 'the', 'question', 'can', 'go', 'in', 'the', 'comments', 'section.', 'more', '>>', 'I', 'have', 'learned', 'English.', 'How', 'to', 'bunny', 'hop', 'You', 'laugh,', 'but', 'have', 'you', 'ever', 'realized', 'you', 'walk', 'faster', 'diagonally?', \"It's\", 'because', \"you're\", 'using', 'your', 'forward-walking', 'and', 'your', 'strafe-walking', 'muscles', 'simultaneously.', 'After', 'getting', 'shot', 'I', 'can', 'heal', 'myself', 'by', 'drinking', 'a', 'energy', 'drink', 'I', 'just', 'hide', 'in', 'a', 'corner', 'until', 'the', 'heartbeat', 'sounds', 'stop', 'being', 'annoying', 'and', 'the', 'colors', 'come', 'back.']\n"
     ]
    }
   ],
   "source": [
    "%cd \"C:\\Users\\Shing Han\\Documents\\Springboard\\Capstone 1\"\n",
    "filename = 'Reddit_comments.txt'\n",
    "file = open(filename, 'rt')\n",
    "text = file.read()\n",
    "file.close()\n",
    "words = text.split()\n",
    "print(words[:100])"
   ]
  },
  {
   "cell_type": "code",
   "execution_count": 16,
   "metadata": {},
   "outputs": [
    {
     "name": "stdout",
     "output_type": "stream",
     "text": [
      "C:\\Users\\Shing Han\n"
     ]
    }
   ],
   "source": []
  }
 ],
 "metadata": {
  "kernelspec": {
   "display_name": "Python 3",
   "language": "python",
   "name": "python3"
  },
  "language_info": {
   "codemirror_mode": {
    "name": "ipython",
    "version": 3
   },
   "file_extension": ".py",
   "mimetype": "text/x-python",
   "name": "python",
   "nbconvert_exporter": "python",
   "pygments_lexer": "ipython3",
   "version": "3.6.4"
  }
 },
 "nbformat": 4,
 "nbformat_minor": 2
}
