{
 "cells": [
  {
   "cell_type": "markdown",
   "metadata": {},
   "source": [
    "# Examining Racial Discrimination in the US Job Market\n",
    "\n",
    "### Background\n",
    "Racial discrimination continues to be pervasive in cultures throughout the world. Researchers examined the level of racial discrimination in the United States labor market by randomly assigning identical résumés to black-sounding or white-sounding names and observing the impact on requests for interviews from employers.\n",
    "\n",
    "### Data\n",
    "In the dataset provided, each row represents a resume. The 'race' column has two values, 'b' and 'w', indicating black-sounding and white-sounding. The column 'call' has two values, 1 and 0, indicating whether the resume received a call from employers or not.\n",
    "\n",
    "Note that the 'b' and 'w' values in race are assigned randomly to the resumes when presented to the employer."
   ]
  },
  {
   "cell_type": "markdown",
   "metadata": {},
   "source": [
    "<div class=\"span5 alert alert-info\">\n",
    "### Exercises\n",
    "You will perform a statistical analysis to establish whether race has a significant impact on the rate of callbacks for resumes.\n",
    "\n",
    "Answer the following questions **in this notebook below and submit to your Github account**. \n",
    "\n",
    "   1. What test is appropriate for this problem? Does CLT apply?\n",
    "   2. What are the null and alternate hypotheses?\n",
    "   3. Compute margin of error, confidence interval, and p-value. Try using both the bootstrapping and the frequentist statistical approaches.\n",
    "   4. Write a story describing the statistical significance in the context or the original problem.\n",
    "   5. Does your analysis mean that race/name is the most important factor in callback success? Why or why not? If not, how would you amend your analysis?\n",
    "\n",
    "You can include written notes in notebook cells using Markdown: \n",
    "   - In the control panel at the top, choose Cell > Cell Type > Markdown\n",
    "   - Markdown syntax: http://nestacms.com/docs/creating-content/markdown-cheat-sheet\n",
    "\n",
    "\n",
    "#### Resources\n",
    "+ Experiment information and data source: http://www.povertyactionlab.org/evaluation/discrimination-job-market-united-states\n",
    "+ Scipy statistical methods: http://docs.scipy.org/doc/scipy/reference/stats.html \n",
    "+ Markdown syntax: http://nestacms.com/docs/creating-content/markdown-cheat-sheet\n",
    "+ Formulas for the Bernoulli distribution: https://en.wikipedia.org/wiki/Bernoulli_distribution\n",
    "</div>\n",
    "****"
   ]
  },
  {
   "cell_type": "code",
   "execution_count": 12,
   "metadata": {},
   "outputs": [],
   "source": [
    "import pandas as pd\n",
    "import numpy as np\n",
    "from scipy import stats"
   ]
  },
  {
   "cell_type": "code",
   "execution_count": 21,
   "metadata": {},
   "outputs": [],
   "source": [
    "data = pd.io.stata.read_stata('data/us_job_market_discrimination.dta')"
   ]
  },
  {
   "cell_type": "code",
   "execution_count": 22,
   "metadata": {},
   "outputs": [
    {
     "data": {
      "text/plain": [
       "235.0"
      ]
     },
     "execution_count": 22,
     "metadata": {},
     "output_type": "execute_result"
    }
   ],
   "source": [
    "# number of callbacks for black-sounding names\n",
    "sum(data[data.race=='w'].call)"
   ]
  },
  {
   "cell_type": "code",
   "execution_count": 29,
   "metadata": {},
   "outputs": [
    {
     "ename": "SyntaxError",
     "evalue": "invalid syntax (<ipython-input-29-725cb177624f>, line 19)",
     "output_type": "error",
     "traceback": [
      "\u001b[1;36m  File \u001b[1;32m\"<ipython-input-29-725cb177624f>\"\u001b[1;36m, line \u001b[1;32m19\u001b[0m\n\u001b[1;33m    w_shift = w - np.mean(w) + combined_mean\u001b[0m\n\u001b[1;37m          ^\u001b[0m\n\u001b[1;31mSyntaxError\u001b[0m\u001b[1;31m:\u001b[0m invalid syntax\n"
     ]
    }
   ],
   "source": [
    "data.head()\n",
    "# Your solution to Q3 here\n",
    "#First we make the function to draw bootstrap replicates that we need for later\n",
    "def draw_bs_reps(data, func, size=1):\n",
    "    \"\"\"Draw bootstrap replicates.\"\"\"\n",
    "\n",
    "    # Initialize array of replicates: bs_replicates\n",
    "    bs_reps = np.empty(size)\n",
    "\n",
    "    # Generate replicates\n",
    "    for i in range(size):\n",
    "        bs_reps[i] = bootstrap_replicate_1d(data, func)\n",
    "        \n",
    "    return bs_reps\n",
    "#we make a concatenated array of of b/w sounding names for callbacks and store its mean\n",
    "combined_mean = np.mean(np.concatenate((w,b))\n",
    "                        \n",
    "#Shift Samples\n",
    "w_shift = w - np.mean(w) + combined_mean\n",
    "b_shift = b - np.mean(b) + combined_mean\n",
    "                        \n",
    "#Get bootstrap replicates of shifted data sets\n",
    "bs_rep_w = draw_bs_reps(w_shift, np.mean, 10000)\n",
    "bs_rep_b = draw_bs_reps(b_shift, np.mean, 10000)\n",
    "                        \n",
    "#compute replicates of difference of means since we want difference of means\n",
    "bs_diff_rep = bs_rep_w - bs_rep_b\n",
    "                        \n",
    "#Compute the p-value\n",
    "p_val = np.sum(bs_diff_rep >= mean_diff)/ len(bs_diff_rep)\n",
    "                        \n",
    "#print p-value\n",
    "print('p=', p_val)"
   ]
  },
  {
   "cell_type": "markdown",
   "metadata": {
    "collapsed": true
   },
   "source": [
    "<div class=\"span5 alert alert-success\">\n",
    "<p>Your answers to Q1 and Q2 here</p>\n",
    "</div>\n",
    "1. The appropriate test for this problem is a one sided t-test and the CLT does apply because we are dealing with a large data set that is independently selected.\n",
    "2. H0: Black sounding names and white sounding names have the same call back rate\n",
    "   H1: Black sounding names have a lower callback rate than white sounding names"
   ]
  },
  {
   "cell_type": "code",
   "execution_count": 24,
   "metadata": {},
   "outputs": [],
   "source": [
    "w = data[data.race=='w']\n",
    "b = data[data.race=='b']"
   ]
  },
  {
   "cell_type": "code",
   "execution_count": 30,
   "metadata": {},
   "outputs": [
    {
     "ename": "SyntaxError",
     "evalue": "invalid syntax (<ipython-input-30-76eb544736a5>, line 18)",
     "output_type": "error",
     "traceback": [
      "\u001b[1;36m  File \u001b[1;32m\"<ipython-input-30-76eb544736a5>\"\u001b[1;36m, line \u001b[1;32m18\u001b[0m\n\u001b[1;33m    w_shift = w - np.mean(w) + combined_mean\u001b[0m\n\u001b[1;37m          ^\u001b[0m\n\u001b[1;31mSyntaxError\u001b[0m\u001b[1;31m:\u001b[0m invalid syntax\n"
     ]
    }
   ],
   "source": [
    "# Your solution to Q3 here\n",
    "#First we make the function to draw bootstrap replicates that we need for later\n",
    "def draw_bs_reps(data, func, size=1):\n",
    "    \"\"\"Draw bootstrap replicates.\"\"\"\n",
    "\n",
    "    # Initialize array of replicates: bs_replicates\n",
    "    bs_reps = np.empty(size)\n",
    "\n",
    "    # Generate replicates\n",
    "    for i in range(size):\n",
    "        bs_reps[i] = bootstrap_replicate_1d(data, func)\n",
    "        \n",
    "    return bs_reps\n",
    "#we make a concatenated array of of b/w sounding names for callbacks and store its mean\n",
    "combined_mean = np.mean(np.concatenate((w,b))\n",
    "                        \n",
    "#Shift Samples\n",
    "w_shift = w - np.mean(w) + combined_mean\n",
    "b_shift = b - np.mean(b) + combined_mean\n",
    "                        \n",
    "#Get bootstrap replicates of shifted data sets\n",
    "bs_rep_w = draw_bs_reps(w_shift, np.mean, 10000)\n",
    "bs_rep_b = draw_bs_reps(b_shift, np.mean, 10000)\n",
    "                        \n",
    "#compute replicates of difference of means since we want difference of means\n",
    "bs_diff_rep = bs_rep_w - bs_rep_b\n",
    "                        \n",
    "#Compute the p-value\n",
    "p_val = np.sum(bs_diff_rep >= mean_diff)/ len(bs_diff_rep)\n",
    "                        \n",
    "#print p-value\n",
    "print('p=', p_val)"
   ]
  },
  {
   "cell_type": "markdown",
   "metadata": {},
   "source": [
    "<div class=\"span5 alert alert-success\">\n",
    "<p> Your answers to Q4 and Q5 here </p>\n",
    "</div>"
   ]
  },
  {
   "cell_type": "code",
   "execution_count": null,
   "metadata": {},
   "outputs": [],
   "source": []
  }
 ],
 "metadata": {
  "kernelspec": {
   "display_name": "Python 3",
   "language": "python",
   "name": "python3"
  },
  "language_info": {
   "codemirror_mode": {
    "name": "ipython",
    "version": 3
   },
   "file_extension": ".py",
   "mimetype": "text/x-python",
   "name": "python",
   "nbconvert_exporter": "python",
   "pygments_lexer": "ipython3",
   "version": "3.6.4"
  }
 },
 "nbformat": 4,
 "nbformat_minor": 1
}
